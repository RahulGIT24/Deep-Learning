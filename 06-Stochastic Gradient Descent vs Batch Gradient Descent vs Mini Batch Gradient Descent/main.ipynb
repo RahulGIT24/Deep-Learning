{
 "cells": [
  {
   "cell_type": "code",
   "execution_count": 1,
   "id": "fe08ff50",
   "metadata": {},
   "outputs": [],
   "source": [
    "import pandas as pd\n",
    "import numpy as np\n",
    "import matplotlib.pyplot as plt\n",
    "%matplotlib inline"
   ]
  },
  {
   "cell_type": "code",
   "execution_count": 2,
   "id": "e4e778a3",
   "metadata": {},
   "outputs": [
    {
     "data": {
      "text/html": [
       "<div>\n",
       "<style scoped>\n",
       "    .dataframe tbody tr th:only-of-type {\n",
       "        vertical-align: middle;\n",
       "    }\n",
       "\n",
       "    .dataframe tbody tr th {\n",
       "        vertical-align: top;\n",
       "    }\n",
       "\n",
       "    .dataframe thead th {\n",
       "        text-align: right;\n",
       "    }\n",
       "</style>\n",
       "<table border=\"1\" class=\"dataframe\">\n",
       "  <thead>\n",
       "    <tr style=\"text-align: right;\">\n",
       "      <th></th>\n",
       "      <th>area</th>\n",
       "      <th>bedrooms</th>\n",
       "      <th>price</th>\n",
       "    </tr>\n",
       "  </thead>\n",
       "  <tbody>\n",
       "    <tr>\n",
       "      <th>0</th>\n",
       "      <td>1056</td>\n",
       "      <td>2</td>\n",
       "      <td>39.07</td>\n",
       "    </tr>\n",
       "    <tr>\n",
       "      <th>1</th>\n",
       "      <td>2600</td>\n",
       "      <td>4</td>\n",
       "      <td>120.00</td>\n",
       "    </tr>\n",
       "    <tr>\n",
       "      <th>2</th>\n",
       "      <td>1440</td>\n",
       "      <td>3</td>\n",
       "      <td>62.00</td>\n",
       "    </tr>\n",
       "    <tr>\n",
       "      <th>3</th>\n",
       "      <td>1521</td>\n",
       "      <td>3</td>\n",
       "      <td>75.00</td>\n",
       "    </tr>\n",
       "    <tr>\n",
       "      <th>4</th>\n",
       "      <td>1200</td>\n",
       "      <td>2</td>\n",
       "      <td>51.00</td>\n",
       "    </tr>\n",
       "  </tbody>\n",
       "</table>\n",
       "</div>"
      ],
      "text/plain": [
       "   area  bedrooms   price\n",
       "0  1056         2   39.07\n",
       "1  2600         4  120.00\n",
       "2  1440         3   62.00\n",
       "3  1521         3   75.00\n",
       "4  1200         2   51.00"
      ]
     },
     "execution_count": 2,
     "metadata": {},
     "output_type": "execute_result"
    }
   ],
   "source": [
    "df = pd.read_csv('homeprices_banglore.csv')\n",
    "df.head()"
   ]
  },
  {
   "cell_type": "code",
   "execution_count": 3,
   "id": "641bbc22",
   "metadata": {},
   "outputs": [
    {
     "data": {
      "text/html": [
       "<div>\n",
       "<style scoped>\n",
       "    .dataframe tbody tr th:only-of-type {\n",
       "        vertical-align: middle;\n",
       "    }\n",
       "\n",
       "    .dataframe tbody tr th {\n",
       "        vertical-align: top;\n",
       "    }\n",
       "\n",
       "    .dataframe thead th {\n",
       "        text-align: right;\n",
       "    }\n",
       "</style>\n",
       "<table border=\"1\" class=\"dataframe\">\n",
       "  <thead>\n",
       "    <tr style=\"text-align: right;\">\n",
       "      <th></th>\n",
       "      <th>area</th>\n",
       "      <th>bedrooms</th>\n",
       "      <th>price</th>\n",
       "    </tr>\n",
       "  </thead>\n",
       "  <tbody>\n",
       "    <tr>\n",
       "      <th>2</th>\n",
       "      <td>1440</td>\n",
       "      <td>3</td>\n",
       "      <td>62.0</td>\n",
       "    </tr>\n",
       "    <tr>\n",
       "      <th>5</th>\n",
       "      <td>1170</td>\n",
       "      <td>2</td>\n",
       "      <td>38.0</td>\n",
       "    </tr>\n",
       "    <tr>\n",
       "      <th>9</th>\n",
       "      <td>3700</td>\n",
       "      <td>5</td>\n",
       "      <td>167.0</td>\n",
       "    </tr>\n",
       "    <tr>\n",
       "      <th>1</th>\n",
       "      <td>2600</td>\n",
       "      <td>4</td>\n",
       "      <td>120.0</td>\n",
       "    </tr>\n",
       "    <tr>\n",
       "      <th>10</th>\n",
       "      <td>1800</td>\n",
       "      <td>3</td>\n",
       "      <td>82.0</td>\n",
       "    </tr>\n",
       "  </tbody>\n",
       "</table>\n",
       "</div>"
      ],
      "text/plain": [
       "    area  bedrooms  price\n",
       "2   1440         3   62.0\n",
       "5   1170         2   38.0\n",
       "9   3700         5  167.0\n",
       "1   2600         4  120.0\n",
       "10  1800         3   82.0"
      ]
     },
     "execution_count": 3,
     "metadata": {},
     "output_type": "execute_result"
    }
   ],
   "source": [
    "df.sample(5)"
   ]
  },
  {
   "cell_type": "code",
   "execution_count": 5,
   "id": "7eedb3f7",
   "metadata": {},
   "outputs": [
    {
     "data": {
      "text/plain": [
       "array([[0.08827586, 0.25      ],\n",
       "       [0.62068966, 0.75      ],\n",
       "       [0.22068966, 0.5       ],\n",
       "       [0.24862069, 0.5       ],\n",
       "       [0.13793103, 0.25      ],\n",
       "       [0.12758621, 0.25      ],\n",
       "       [0.6662069 , 0.75      ],\n",
       "       [0.86206897, 0.75      ],\n",
       "       [0.17586207, 0.5       ],\n",
       "       [1.        , 1.        ],\n",
       "       [0.34482759, 0.5       ],\n",
       "       [0.68448276, 0.75      ],\n",
       "       [0.06896552, 0.25      ],\n",
       "       [0.10344828, 0.25      ],\n",
       "       [0.5       , 0.5       ],\n",
       "       [0.12931034, 0.25      ],\n",
       "       [0.13103448, 0.5       ],\n",
       "       [0.25517241, 0.5       ],\n",
       "       [0.67931034, 0.5       ],\n",
       "       [0.        , 0.        ]])"
      ]
     },
     "execution_count": 5,
     "metadata": {},
     "output_type": "execute_result"
    }
   ],
   "source": [
    "# Scaling data\n",
    "from sklearn import preprocessing\n",
    "\n",
    "sx = preprocessing.MinMaxScaler()\n",
    "sy = preprocessing.MinMaxScaler()\n",
    "\n",
    "scaled_X = sx.fit_transform(df.drop('price',axis='columns'))\n",
    "scaled_X"
   ]
  },
  {
   "cell_type": "code",
   "execution_count": 6,
   "id": "1a44fd6b",
   "metadata": {},
   "outputs": [
    {
     "data": {
      "text/plain": [
       "array([[0.05237037],\n",
       "       [0.65185185],\n",
       "       [0.22222222],\n",
       "       [0.31851852],\n",
       "       [0.14074074],\n",
       "       [0.04444444],\n",
       "       [0.76296296],\n",
       "       [0.91111111],\n",
       "       [0.13333333],\n",
       "       [1.        ],\n",
       "       [0.37037037],\n",
       "       [0.8       ],\n",
       "       [0.04444444],\n",
       "       [0.05925926],\n",
       "       [0.51111111],\n",
       "       [0.07407407],\n",
       "       [0.11851852],\n",
       "       [0.20740741],\n",
       "       [0.51851852],\n",
       "       [0.        ]])"
      ]
     },
     "execution_count": 6,
     "metadata": {},
     "output_type": "execute_result"
    }
   ],
   "source": [
    "scaled_Y = sy.fit_transform(df['price'].values.reshape(df.shape[0],1))\n",
    "scaled_Y"
   ]
  },
  {
   "cell_type": "code",
   "execution_count": null,
   "id": "f0a16fc3",
   "metadata": {},
   "outputs": [],
   "source": [
    "# Bath gradient descent function\n",
    "\n",
    "def batch_gradient_descent(X,y_true, epochs, learning_rate=0.5):\n",
    "    number_of_features = X.shape[1]\n",
    "    w = np.ones(shape=(number_of_features))\n",
    "    b = 0\n",
    "    total_samples = X.shape[0]\n",
    "\n",
    "    cost_list = []\n",
    "    epoch_list = []\n",
    "\n",
    "    for i in range(epochs):\n",
    "        y_predicted = np.dot(w, scaled_X.T) + b\n",
    "        w_grad = -(2/total_samples)*(X.T.dot(y_true-y_predicted))\n",
    "        b_grad = -(2/total_samples)*np.sum(y_true-y_predicted)\n",
    "\n",
    "        w = w - learning_rate * w_grad\n",
    "        b = b - learning_rate * b_grad\n",
    "\n",
    "        cost = np.mean(np.square((y_true-y_predicted)))\n",
    "\n",
    "        if i%10 == 0:\n",
    "            cost_list.append(cost)\n",
    "            epoch_list.append(i)\n",
    "    \n",
    "    return w,b,cost_list,epoch_list\n"
   ]
  },
  {
   "cell_type": "code",
   "execution_count": 10,
   "id": "87003256",
   "metadata": {},
   "outputs": [],
   "source": [
    "w,b,cost_list, epoch_list = batch_gradient_descent(scaled_X,scaled_Y.reshape(scaled_Y.shape[0],),500)"
   ]
  },
  {
   "cell_type": "code",
   "execution_count": 11,
   "id": "4d00a516",
   "metadata": {},
   "outputs": [
    {
     "data": {
      "text/plain": [
       "(array([0.91329689, 0.2142067 ]),\n",
       " np.float64(-0.07638774454920315),\n",
       " [np.float64(0.2768777174681),\n",
       "  np.float64(0.006660725969160603),\n",
       "  np.float64(0.004810485222306515),\n",
       "  np.float64(0.00438288072890199),\n",
       "  np.float64(0.004161110814567767),\n",
       "  np.float64(0.003987803533124624),\n",
       "  np.float64(0.003840053813601274),\n",
       "  np.float64(0.003712366061751448),\n",
       "  np.float64(0.0036017942830819097),\n",
       "  np.float64(0.0035060160228240892),\n",
       "  np.float64(0.0034230484801486783),\n",
       "  np.float64(0.0033511777210783363),\n",
       "  np.float64(0.003288919510596646),\n",
       "  np.float64(0.003234988185252222),\n",
       "  np.float64(0.0031882700433776496),\n",
       "  np.float64(0.0031478003391289602),\n",
       "  np.float64(0.0031127433591862483),\n",
       "  np.float64(0.0030823751648642395),\n",
       "  np.float64(0.003056068642514213),\n",
       "  np.float64(0.0030332805534096937),\n",
       "  np.float64(0.0030135403156798246),\n",
       "  np.float64(0.002996440286631996),\n",
       "  np.float64(0.002981627344790161),\n",
       "  np.float64(0.002968795597815),\n",
       "  np.float64(0.00295768006572201),\n",
       "  np.float64(0.0029480512089537572),\n",
       "  np.float64(0.0029397101883091403),\n",
       "  np.float64(0.0029324847588455562),\n",
       "  np.float64(0.002926225712961659),\n",
       "  np.float64(0.002920803799209102),\n",
       "  np.float64(0.002916107053205725),\n",
       "  np.float64(0.002912038485532574),\n",
       "  np.float64(0.0029085140788690867),\n",
       "  np.float64(0.0029054610530065473),\n",
       "  np.float64(0.0029028163619117587),\n",
       "  np.float64(0.0029005253918047984),\n",
       "  np.float64(0.002898540833365695),\n",
       "  np.float64(0.002896821704780714),\n",
       "  np.float64(0.0028953325054538125),\n",
       "  np.float64(0.002894042482907151),\n",
       "  np.float64(0.0028929249977318406),\n",
       "  np.float64(0.0028919569734749957),\n",
       "  np.float64(0.0028911184201030706),\n",
       "  np.float64(0.002890392021200772),\n",
       "  np.float64(0.00288976277638115),\n",
       "  np.float64(0.0028892176915224477),\n",
       "  np.float64(0.0028887455104350214),\n",
       "  np.float64(0.0028883364824171575),\n",
       "  np.float64(0.0028879821608997296),\n",
       "  np.float64(0.002887675229021642)],\n",
       " [0,\n",
       "  10,\n",
       "  20,\n",
       "  30,\n",
       "  40,\n",
       "  50,\n",
       "  60,\n",
       "  70,\n",
       "  80,\n",
       "  90,\n",
       "  100,\n",
       "  110,\n",
       "  120,\n",
       "  130,\n",
       "  140,\n",
       "  150,\n",
       "  160,\n",
       "  170,\n",
       "  180,\n",
       "  190,\n",
       "  200,\n",
       "  210,\n",
       "  220,\n",
       "  230,\n",
       "  240,\n",
       "  250,\n",
       "  260,\n",
       "  270,\n",
       "  280,\n",
       "  290,\n",
       "  300,\n",
       "  310,\n",
       "  320,\n",
       "  330,\n",
       "  340,\n",
       "  350,\n",
       "  360,\n",
       "  370,\n",
       "  380,\n",
       "  390,\n",
       "  400,\n",
       "  410,\n",
       "  420,\n",
       "  430,\n",
       "  440,\n",
       "  450,\n",
       "  460,\n",
       "  470,\n",
       "  480,\n",
       "  490])"
      ]
     },
     "execution_count": 11,
     "metadata": {},
     "output_type": "execute_result"
    }
   ],
   "source": [
    "w,b,cost_list, epoch_list"
   ]
  },
  {
   "cell_type": "code",
   "execution_count": 12,
   "id": "4808f28f",
   "metadata": {},
   "outputs": [
    {
     "data": {
      "text/plain": [
       "[<matplotlib.lines.Line2D at 0x7b423c89f410>]"
      ]
     },
     "execution_count": 12,
     "metadata": {},
     "output_type": "execute_result"
    },
    {
     "data": {
      "image/png": "[encoded data removed]",
      "text/plain": [
       "<Figure size 640x480 with 1 Axes>"
      ]
     },
     "metadata": {},
     "output_type": "display_data"
    }
   ],
   "source": [
    "plt.xlabel(\"Epoch\")\n",
    "plt.ylabel(\"Cost\")\n",
    "plt.plot(epoch_list, cost_list)"
   ]
  },
  {
   "cell_type": "code",
   "execution_count": 18,
   "id": "4206d500",
   "metadata": {},
   "outputs": [
    {
     "name": "stderr",
     "output_type": "stream",
     "text": [
      "/media/rahul/280284fc-cb1d-4540-9515-36b722236c05/deeplearning/.venv/lib/python3.12/site-packages/sklearn/utils/validation.py:2749: UserWarning: X does not have valid feature names, but MinMaxScaler was fitted with feature names\n",
      "  warnings.warn(\n"
     ]
    },
    {
     "data": {
      "text/plain": [
       "np.float64(119.904063409011)"
      ]
     },
     "execution_count": 18,
     "metadata": {},
     "output_type": "execute_result"
    }
   ],
   "source": [
    "def predict(area,bedrooms, w, b):\n",
    "    scaled_X = sx.transform([[area,bedrooms]])[0]\n",
    "    scaled_price = w[0]*scaled_X[0] + w[1]*scaled_X[1] + b\n",
    "    return sy.inverse_transform([[scaled_price]])[0][0]\n",
    "\n",
    "predict(2600,4,w,b)"
   ]
  },
  {
   "cell_type": "code",
   "execution_count": 19,
   "id": "6bc0cfcd",
   "metadata": {},
   "outputs": [
    {
     "name": "stderr",
     "output_type": "stream",
     "text": [
      "/media/rahul/280284fc-cb1d-4540-9515-36b722236c05/deeplearning/.venv/lib/python3.12/site-packages/sklearn/utils/validation.py:2749: UserWarning: X does not have valid feature names, but MinMaxScaler was fitted with feature names\n",
      "  warnings.warn(\n"
     ]
    },
    {
     "data": {
      "text/plain": [
       "np.float64(37.42023948175417)"
      ]
     },
     "execution_count": 19,
     "metadata": {},
     "output_type": "execute_result"
    }
   ],
   "source": [
    "predict(1000,2,w,b)"
   ]
  },
  {
   "cell_type": "code",
   "execution_count": 20,
   "id": "13320c6e",
   "metadata": {},
   "outputs": [],
   "source": [
    "# Stochastic Gradient Descent\n",
    "import random\n",
    "def stochastic_gradient_descent(X, y_true, epochs, learning_rate=0.01):\n",
    "    number_of_features = X.shape[1]\n",
    "    w=np.ones(shape=(number_of_features))\n",
    "    b=0\n",
    "    total_samples=X.shape[0]\n",
    "\n",
    "    cost_list=[]\n",
    "    epoch_list=[]\n",
    "\n",
    "    for i in range(epochs):\n",
    "        random_index = random.randint(0,total_samples-1)\n",
    "        sample_x = X[random_index]\n",
    "        sample_y = y_true[random_index]\n",
    "        y_predicted = np.dot(w, sample_x.T) + b\n",
    "\n",
    "        w_grad = -(2/total_samples)*(sample_x.T.dot(sample_y-y_predicted))\n",
    "        b_grad = -(2/total_samples)*(sample_y-y_predicted)\n",
    "\n",
    "        w = w - learning_rate * w_grad\n",
    "        b = b - learning_rate * b_grad\n",
    "\n",
    "        cost = np.square(sample_y-y_predicted)\n",
    "\n",
    "        if i%100==0:\n",
    "            cost_list.append(cost)\n",
    "            epoch_list.append(i)\n",
    "    return w, b, cost_list, epoch_list"
   ]
  },
  {
   "cell_type": "code",
   "execution_count": 33,
   "id": "15f3a6c9",
   "metadata": {},
   "outputs": [],
   "source": [
    "w_sgd ,b_sgd, cost_list_sgd, epoch_list_sgd = stochastic_gradient_descent(scaled_X,scaled_Y.reshape(scaled_Y.shape[0],),10000)"
   ]
  },
  {
   "cell_type": "code",
   "execution_count": 34,
   "id": "ad47a3aa",
   "metadata": {},
   "outputs": [
    {
     "data": {
      "text/plain": [
       "(array([0.70546427, 0.67345165]),\n",
       " np.float64(-0.2324399971262157),\n",
       " [np.float64(0.3000465022207216),\n",
       "  np.float64(0.8064655943759849),\n",
       "  np.float64(0.26599424522479675),\n",
       "  np.float64(0.0660157687051658),\n",
       "  np.float64(0.20343690558703892),\n",
       "  np.float64(0.38717265726886224),\n",
       "  np.float64(0.03894012092039877),\n",
       "  np.float64(0.022656191051091318),\n",
       "  np.float64(0.00012486531392597115),\n",
       "  np.float64(0.08022520335777332),\n",
       "  np.float64(0.0006162606640970407),\n",
       "  np.float64(0.0369203542945226),\n",
       "  np.float64(0.0016791245654419944),\n",
       "  np.float64(0.008083278192328985),\n",
       "  np.float64(0.0175870499404348),\n",
       "  np.float64(0.018306911459520347),\n",
       "  np.float64(0.015562035275708156),\n",
       "  np.float64(0.012834006044678777),\n",
       "  np.float64(0.015385087819853047),\n",
       "  np.float64(0.08946978912504105),\n",
       "  np.float64(0.002244626739984338),\n",
       "  np.float64(0.009490913658440157),\n",
       "  np.float64(0.002619915673982188),\n",
       "  np.float64(0.008416586326421172),\n",
       "  np.float64(0.09359355137414489),\n",
       "  np.float64(0.008399349846302752),\n",
       "  np.float64(0.010808214324890361),\n",
       "  np.float64(0.006760511640549934),\n",
       "  np.float64(0.003552173059656118),\n",
       "  np.float64(0.006223324841514964),\n",
       "  np.float64(0.008696049910602237),\n",
       "  np.float64(0.05928348532929657),\n",
       "  np.float64(0.057270169488787846),\n",
       "  np.float64(0.05533097000863032),\n",
       "  np.float64(0.006277677496328535),\n",
       "  np.float64(0.0031783040326274687),\n",
       "  np.float64(0.00829346911656641),\n",
       "  np.float64(0.0025219330790544393),\n",
       "  np.float64(0.00017919822757837825),\n",
       "  np.float64(0.006431608073131796),\n",
       "  np.float64(0.000845108105841766),\n",
       "  np.float64(0.0009098329279969489),\n",
       "  np.float64(0.08597801753304837),\n",
       "  np.float64(0.00826728790168118),\n",
       "  np.float64(0.00011231802398231345),\n",
       "  np.float64(0.08321970487315992),\n",
       "  np.float64(0.0021872833143033433),\n",
       "  np.float64(0.0074290780409287166),\n",
       "  np.float64(0.004234149022477878),\n",
       "  np.float64(0.045481899087428654),\n",
       "  np.float64(0.00645110308381319),\n",
       "  np.float64(0.00011529240033674865),\n",
       "  np.float64(0.0052177369402524555),\n",
       "  np.float64(0.00017552839321360094),\n",
       "  np.float64(0.075676769291993),\n",
       "  np.float64(0.016597658484001347),\n",
       "  np.float64(0.007810774461522813),\n",
       "  np.float64(4.604968040271769e-05),\n",
       "  np.float64(0.006124358920416523),\n",
       "  np.float64(0.0074948211852964115),\n",
       "  np.float64(0.0023421132302810406),\n",
       "  np.float64(0.0011040201745097598),\n",
       "  np.float64(2.4016610016959863e-06),\n",
       "  np.float64(0.0011444791193417933),\n",
       "  np.float64(2.267537506044706e-06),\n",
       "  np.float64(0.03610204474636922),\n",
       "  np.float64(1.17260991201509e-08),\n",
       "  np.float64(2.3634090813435675e-06),\n",
       "  np.float64(0.005388195414847833),\n",
       "  np.float64(2.025389318112979e-06),\n",
       "  np.float64(0.00042235885628193816),\n",
       "  np.float64(0.06543631221435382),\n",
       "  np.float64(0.0006974055146141513),\n",
       "  np.float64(0.0022850881967664675),\n",
       "  np.float64(0.00601271562984121),\n",
       "  np.float64(0.013287933688281172),\n",
       "  np.float64(0.0013314687328537394),\n",
       "  np.float64(0.0037943663607116905),\n",
       "  np.float64(0.0014795977074312386),\n",
       "  np.float64(0.005966027549591902),\n",
       "  np.float64(0.029612859963624272),\n",
       "  np.float64(0.005930028061468965),\n",
       "  np.float64(0.00022807018156479692),\n",
       "  np.float64(0.0025223936732035996),\n",
       "  np.float64(0.002772619896905377),\n",
       "  np.float64(0.0026158558026512166),\n",
       "  np.float64(0.0012682114207995861),\n",
       "  np.float64(0.0026836106802388586),\n",
       "  np.float64(0.00018058333777803905),\n",
       "  np.float64(0.00254510028952488),\n",
       "  np.float64(0.00025730979623816346),\n",
       "  np.float64(0.0005717002116961696),\n",
       "  np.float64(0.00554878841734424),\n",
       "  np.float64(0.003099018179329128),\n",
       "  np.float64(0.0005360507111157647),\n",
       "  np.float64(0.004477859820698059),\n",
       "  np.float64(0.0026677820886863574),\n",
       "  np.float64(0.0026632778840710775),\n",
       "  np.float64(0.0035513089004994133),\n",
       "  np.float64(0.011565792114276448)],\n",
       " [0,\n",
       "  100,\n",
       "  200,\n",
       "  300,\n",
       "  400,\n",
       "  500,\n",
       "  600,\n",
       "  700,\n",
       "  800,\n",
       "  900,\n",
       "  1000,\n",
       "  1100,\n",
       "  1200,\n",
       "  1300,\n",
       "  1400,\n",
       "  1500,\n",
       "  1600,\n",
       "  1700,\n",
       "  1800,\n",
       "  1900,\n",
       "  2000,\n",
       "  2100,\n",
       "  2200,\n",
       "  2300,\n",
       "  2400,\n",
       "  2500,\n",
       "  2600,\n",
       "  2700,\n",
       "  2800,\n",
       "  2900,\n",
       "  3000,\n",
       "  3100,\n",
       "  3200,\n",
       "  3300,\n",
       "  3400,\n",
       "  3500,\n",
       "  3600,\n",
       "  3700,\n",
       "  3800,\n",
       "  3900,\n",
       "  4000,\n",
       "  4100,\n",
       "  4200,\n",
       "  4300,\n",
       "  4400,\n",
       "  4500,\n",
       "  4600,\n",
       "  4700,\n",
       "  4800,\n",
       "  4900,\n",
       "  5000,\n",
       "  5100,\n",
       "  5200,\n",
       "  5300,\n",
       "  5400,\n",
       "  5500,\n",
       "  5600,\n",
       "  5700,\n",
       "  5800,\n",
       "  5900,\n",
       "  6000,\n",
       "  6100,\n",
       "  6200,\n",
       "  6300,\n",
       "  6400,\n",
       "  6500,\n",
       "  6600,\n",
       "  6700,\n",
       "  6800,\n",
       "  6900,\n",
       "  7000,\n",
       "  7100,\n",
       "  7200,\n",
       "  7300,\n",
       "  7400,\n",
       "  7500,\n",
       "  7600,\n",
       "  7700,\n",
       "  7800,\n",
       "  7900,\n",
       "  8000,\n",
       "  8100,\n",
       "  8200,\n",
       "  8300,\n",
       "  8400,\n",
       "  8500,\n",
       "  8600,\n",
       "  8700,\n",
       "  8800,\n",
       "  8900,\n",
       "  9000,\n",
       "  9100,\n",
       "  9200,\n",
       "  9300,\n",
       "  9400,\n",
       "  9500,\n",
       "  9600,\n",
       "  9700,\n",
       "  9800,\n",
       "  9900])"
      ]
     },
     "execution_count": 34,
     "metadata": {},
     "output_type": "execute_result"
    }
   ],
   "source": [
    "w_sgd ,b_sgd, cost_list_sgd, epoch_list_sgd"
   ]
  },
  {
   "cell_type": "code",
   "execution_count": 35,
   "id": "46576f17",
   "metadata": {},
   "outputs": [
    {
     "data": {
      "text/plain": [
       "[<matplotlib.lines.Line2D at 0x7b422c3652b0>]"
      ]
     },
     "execution_count": 35,
     "metadata": {},
     "output_type": "execute_result"
    },
    {
     "data": {
      "image/png": "[encoded data removed]",
      "text/plain": [
       "<Figure size 640x480 with 1 Axes>"
      ]
     },
     "metadata": {},
     "output_type": "display_data"
    }
   ],
   "source": [
    "plt.xlabel(\"epoch\")\n",
    "plt.ylabel(\"cost\")\n",
    "plt.plot(epoch_list_sgd, cost_list_sgd)"
   ]
  },
  {
   "cell_type": "code",
   "execution_count": null,
   "id": "aa03416f",
   "metadata": {},
   "outputs": [],
   "source": []
  }
 ],
 "metadata": {
  "kernelspec": {
   "display_name": "deeplearning (3.12.3)",
   "language": "python",
   "name": "python3"
  },
  "language_info": {
   "codemirror_mode": {
    "name": "ipython",
    "version": 3
   },
   "file_extension": ".py",
   "mimetype": "text/x-python",
   "name": "python",
   "nbconvert_exporter": "python",
   "pygments_lexer": "ipython3",
   "version": "3.12.3"
  }
 },
 "nbformat": 4,
 "nbformat_minor": 5
}
