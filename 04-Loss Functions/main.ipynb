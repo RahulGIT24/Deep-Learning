{
 "cells": [
  {
   "cell_type": "code",
   "execution_count": 36,
   "id": "be085734",
   "metadata": {},
   "outputs": [],
   "source": [
    "import numpy as np\n",
    "\n",
    "predicted = np.array([1,1,0,0,1])\n",
    "actual = np.array([0.30,0.7,1,0,0.5])"
   ]
  },
  {
   "cell_type": "code",
   "execution_count": 37,
   "id": "63f56ca5",
   "metadata": {},
   "outputs": [
    {
     "data": {
      "text/plain": [
       "np.float64(0.5)"
      ]
     },
     "execution_count": 37,
     "metadata": {},
     "output_type": "execute_result"
    }
   ],
   "source": [
    "def mae(y_true,y_predicted):\n",
    "    total_error = 0\n",
    "    for yt,yp in zip(y_true,y_predicted):\n",
    "        total_error += abs(yt-yp)\n",
    "    return total_error / len(y_true)\n",
    "mae(actual,predicted)"
   ]
  },
  {
   "cell_type": "code",
   "execution_count": 38,
   "id": "b8bdc764",
   "metadata": {},
   "outputs": [
    {
     "data": {
      "text/plain": [
       "np.float64(0.366)"
      ]
     },
     "execution_count": 38,
     "metadata": {},
     "output_type": "execute_result"
    }
   ],
   "source": [
    "def mse(y_true,y_predicted):\n",
    "    total_error = 0\n",
    "    for yt,yp in zip(y_true,y_predicted):\n",
    "        total_error += (yt-yp)**2\n",
    "    return total_error / len(y_true)\n",
    "mse(actual,predicted)"
   ]
  },
  {
   "cell_type": "code",
   "execution_count": 39,
   "id": "a44fe535",
   "metadata": {},
   "outputs": [
    {
     "data": {
      "text/plain": [
       "np.float64(0.5)"
      ]
     },
     "execution_count": 39,
     "metadata": {},
     "output_type": "execute_result"
    }
   ],
   "source": [
    "# Another way of MAE\n",
    "np.mean(np.abs(actual-predicted))"
   ]
  },
  {
   "cell_type": "code",
   "execution_count": 40,
   "id": "416df352",
   "metadata": {},
   "outputs": [
    {
     "data": {
      "text/plain": [
       "np.float64(0.366)"
      ]
     },
     "execution_count": 40,
     "metadata": {},
     "output_type": "execute_result"
    }
   ],
   "source": [
    "# Another way of mse\n",
    "np.mean(np.square(actual-predicted))"
   ]
  },
  {
   "cell_type": "code",
   "execution_count": 41,
   "id": "1f3b3ef0",
   "metadata": {},
   "outputs": [
    {
     "data": {
      "text/plain": [
       "array([-78.28789316])"
      ]
     },
     "execution_count": 41,
     "metadata": {},
     "output_type": "execute_result"
    }
   ],
   "source": [
    "np.log([0.0000000000000000000000000000000001])"
   ]
  },
  {
   "cell_type": "code",
   "execution_count": 46,
   "id": "90613abd",
   "metadata": {},
   "outputs": [],
   "source": [
    "epsilon = 1e-15"
   ]
  },
  {
   "cell_type": "code",
   "execution_count": null,
   "id": "39130049",
   "metadata": {},
   "outputs": [
    {
     "data": {
      "text/plain": [
       "[np.int64(1), np.int64(1), 1e-15, 1e-15, np.int64(1)]"
      ]
     },
     "execution_count": 47,
     "metadata": {},
     "output_type": "execute_result"
    }
   ],
   "source": [
    "predicted_new = [max(i,epsilon) for i in predicted]\n",
    "predicted_new"
   ]
  },
  {
   "cell_type": "code",
   "execution_count": 49,
   "id": "f7edf7dc",
   "metadata": {},
   "outputs": [
    {
     "data": {
      "text/plain": [
       "[0.999999999999999, 0.999999999999999, 1e-15, 1e-15, 0.999999999999999]"
      ]
     },
     "execution_count": 49,
     "metadata": {},
     "output_type": "execute_result"
    }
   ],
   "source": [
    "predicted_new = [min(i,1-epsilon) for i in predicted_new]\n",
    "predicted_new"
   ]
  },
  {
   "cell_type": "code",
   "execution_count": null,
   "id": "ec6b6432",
   "metadata": {},
   "outputs": [
    {
     "data": {
      "text/plain": [
       "array([-9.99200722e-16, -9.99200722e-16, -3.45387764e+01, -3.45387764e+01,\n",
       "       -9.99200722e-16])"
      ]
     },
     "execution_count": 50,
     "metadata": {},
     "output_type": "execute_result"
    }
   ],
   "source": [
    "predicted_new = np.array(predicted_new)\n",
    "# Binary Cross Entropy or log loss functionnp.log(predicted_new)"
   ]
  },
  {
   "cell_type": "code",
   "execution_count": null,
   "id": "dcd46c5b",
   "metadata": {},
   "outputs": [
    {
     "data": {
      "text/plain": [
       "np.float64(17.2696280766844)"
      ]
     },
     "execution_count": 54,
     "metadata": {},
     "output_type": "execute_result"
    }
   ],
   "source": [
    "# Binary Cross Entropy or log loss function\n",
    "-np.mean(actual*np.log(predicted_new) + (1-actual) * np.log(1-predicted_new))"
   ]
  },
  {
   "cell_type": "code",
   "execution_count": 55,
   "id": "e2e2f34f",
   "metadata": {},
   "outputs": [],
   "source": [
    "# All combined log loss\n",
    "def log_loss(actual,predicted):\n",
    "    epsilon = 1e-15\n",
    "    predicted_new=[max(i,epsilon) for i in predicted]\n",
    "    predicted_new=[min(i,1-epsilon) for i in predicted_new]\n",
    "    predicted_new=np.array(predicted_new)\n",
    "    return -np.mean(actual*np.log(predicted_new) + (1-actual) * np.log(1-predicted_new))"
   ]
  },
  {
   "cell_type": "code",
   "execution_count": null,
   "id": "54e102e2",
   "metadata": {},
   "outputs": [],
   "source": []
  }
 ],
 "metadata": {
  "kernelspec": {
   "display_name": "deeplearning (3.12.3)",
   "language": "python",
   "name": "python3"
  },
  "language_info": {
   "codemirror_mode": {
    "name": "ipython",
    "version": 3
   },
   "file_extension": ".py",
   "mimetype": "text/x-python",
   "name": "python",
   "nbconvert_exporter": "python",
   "pygments_lexer": "ipython3",
   "version": "3.12.3"
  }
 },
 "nbformat": 4,
 "nbformat_minor": 5
}
